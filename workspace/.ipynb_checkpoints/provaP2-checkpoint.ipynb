{
 "cells": [
  {
   "cell_type": "code",
   "execution_count": null,
   "id": "52683db0",
   "metadata": {},
   "outputs": [],
   "source": [
    "import sys\n",
    "from pyspark.sql import SparkSession\n",
    "\n",
    "spark = SparkSession.builder.master(\"spark://spark-master:7077\").appName(\"SparkByIESB\").getOrCreate()"
   ]
  },
  {
   "cell_type": "code",
   "execution_count": null,
   "id": "bc561296",
   "metadata": {},
   "outputs": [],
   "source": [
    "#df = spark.read.option(\"header\",\"true\").option(\"inferSchema\",\"true\").csv(\"cesta.csv\")\n",
    "df = spark.read.option(\"header\",\"true\").csv(\"cesta.csv\")#.drop(\"student_id\")\n",
    "#print(df)\n",
    "#df.printSchema()\n",
    "\n",
    "from pyspark.sql.functions import collect_list, col\n",
    "cestas = df.rdd.map(lambda x: (x[0], [\"assignment_update\"+x[1],\"assignment_upload\"+x[2],\"assignment_view\"+x[3]]))\n",
    "df2 = cestas.toDF([\"id\",\"items\"])\n",
    "df2.show()\n",
    "\n",
    "#rdd = df.rdd.map(lambda x: (x[0],x[1:]))\n",
    "#rdd.printSchema()\n",
    "\n",
    "#from pyspark.sql import functions as F\n",
    "#df2 = df.groupBy(\"student_id\").agg(F.collect_list(\"student_id\")).sort('student_id')\n",
    "#df2.printSchema()\n",
    "#df2.show()"
   ]
  },
  {
   "cell_type": "code",
   "execution_count": null,
   "id": "31acb27f",
   "metadata": {},
   "outputs": [],
   "source": [
    "from pyspark.ml.fpm import FPGrowth\n",
    "\n",
    "fpGrowth = FPGrowth(itemsCol=\"items\", minSupport=0.5, minConfidence=0.6)\n",
    "model = fpGrowth.fit(df2)"
   ]
  },
  {
   "cell_type": "code",
   "execution_count": null,
   "id": "a3ee4b02",
   "metadata": {},
   "outputs": [],
   "source": [
    "# Display frequent itemsets.\n",
    "model.freqItemsets.show()"
   ]
  },
  {
   "cell_type": "code",
   "execution_count": null,
   "id": "c0533d94",
   "metadata": {},
   "outputs": [],
   "source": [
    "# Display generated association rules.\n",
    "model.associationRules.show()"
   ]
  }
 ],
 "metadata": {
  "kernelspec": {
   "display_name": "Python 3 (ipykernel)",
   "language": "python",
   "name": "python3"
  },
  "language_info": {
   "codemirror_mode": {
    "name": "ipython",
    "version": 3
   },
   "file_extension": ".py",
   "mimetype": "text/x-python",
   "name": "python",
   "nbconvert_exporter": "python",
   "pygments_lexer": "ipython3",
   "version": "3.9.2"
  }
 },
 "nbformat": 4,
 "nbformat_minor": 5
}
