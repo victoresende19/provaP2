{
 "cells": [
  {
   "cell_type": "code",
   "execution_count": 1,
   "id": "fa5cc7aa",
   "metadata": {},
   "outputs": [
    {
     "name": "stderr",
     "output_type": "stream",
     "text": [
      "22/06/09 23:09:18 WARN NativeCodeLoader: Unable to load native-hadoop library for your platform... using builtin-java classes where applicable\n",
      "Using Spark's default log4j profile: org/apache/spark/log4j-defaults.properties\n",
      "Setting default log level to \"WARN\".\n",
      "To adjust logging level use sc.setLogLevel(newLevel). For SparkR, use setLogLevel(newLevel).\n"
     ]
    }
   ],
   "source": [
    "import sys\n",
    "from pyspark.sql import SparkSession\n",
    "\n",
    "spark = SparkSession.builder.master(\"spark://spark-master:7077\").appName(\"SparkByIESB\").getOrCreate()"
   ]
  },
  {
   "cell_type": "code",
   "execution_count": 2,
   "id": "5ca6083d",
   "metadata": {},
   "outputs": [
    {
     "name": "stderr",
     "output_type": "stream",
     "text": [
      "                                                                                \r"
     ]
    },
    {
     "name": "stdout",
     "output_type": "stream",
     "text": [
      "+---+--------------------+\n",
      "| id|               items|\n",
      "+---+--------------------+\n",
      "|319|[assignment_updat...|\n",
      "|320|[assignment_updat...|\n",
      "|321|[assignment_updat...|\n",
      "|322|[assignment_updat...|\n",
      "|323|[assignment_updat...|\n",
      "|324|[assignment_updat...|\n",
      "|325|[assignment_updat...|\n",
      "|326|[assignment_updat...|\n",
      "|327|[assignment_updat...|\n",
      "|328|[assignment_updat...|\n",
      "|329|[assignment_updat...|\n",
      "|330|[assignment_updat...|\n",
      "|331|[assignment_updat...|\n",
      "|332|[assignment_updat...|\n",
      "|333|[assignment_updat...|\n",
      "|334|[assignment_updat...|\n",
      "|335|[assignment_updat...|\n",
      "|336|[assignment_updat...|\n",
      "|337|[assignment_updat...|\n",
      "|338|[assignment_updat...|\n",
      "+---+--------------------+\n",
      "only showing top 20 rows\n",
      "\n"
     ]
    }
   ],
   "source": [
    "#df = spark.read.option(\"header\",\"true\").option(\"inferSchema\",\"true\").csv(\"cesta.csv\")\n",
    "df = spark.read.option(\"header\",\"true\").csv(\"cesta.csv\")#.drop(\"student_id\")\n",
    "#print(df)\n",
    "#df.printSchema()\n",
    "\n",
    "from pyspark.sql.functions import collect_list, col\n",
    "cestas = df.rdd.map(lambda x: (x[0], [\"assignment_update\"+x[1],\"assignment_upload\"+x[2],\"assignment_view\"+x[3]]))\n",
    "df2 = cestas.toDF([\"id\",\"items\"])\n",
    "df2.show()\n",
    "\n",
    "#rdd = df.rdd.map(lambda x: (x[0],x[1:]))\n",
    "#rdd.printSchema()\n",
    "\n",
    "#from pyspark.sql import functions as F\n",
    "#df2 = df.groupBy(\"student_id\").agg(F.collect_list(\"student_id\")).sort('student_id')\n",
    "#df2.printSchema()\n",
    "#df2.show()"
   ]
  },
  {
   "cell_type": "code",
   "execution_count": 3,
   "id": "dfad41e6",
   "metadata": {},
   "outputs": [
    {
     "name": "stderr",
     "output_type": "stream",
     "text": [
      "                                                                                \r"
     ]
    }
   ],
   "source": [
    "from pyspark.ml.fpm import FPGrowth\n",
    "\n",
    "fpGrowth = FPGrowth(itemsCol=\"items\", minSupport=0.5, minConfidence=0.6)\n",
    "model = fpGrowth.fit(df2)"
   ]
  },
  {
   "cell_type": "code",
   "execution_count": 4,
   "id": "f6496193",
   "metadata": {},
   "outputs": [
    {
     "name": "stderr",
     "output_type": "stream",
     "text": [
      "[Stage 7:>                                                          (0 + 1) / 1]\r"
     ]
    },
    {
     "name": "stdout",
     "output_type": "stream",
     "text": [
      "+--------------------+-----+\n",
      "|               items| freq|\n",
      "+--------------------+-----+\n",
      "|  [assignment_view3]| 7353|\n",
      "|[assignment_view3...| 7353|\n",
      "|[assignment_upload4]| 8646|\n",
      "|[assignment_uploa...| 8646|\n",
      "|[assignment_update4]|14459|\n",
      "+--------------------+-----+\n",
      "\n"
     ]
    },
    {
     "name": "stderr",
     "output_type": "stream",
     "text": [
      "                                                                                \r"
     ]
    }
   ],
   "source": [
    "# Display frequent itemsets.\n",
    "model.freqItemsets.show()"
   ]
  },
  {
   "cell_type": "code",
   "execution_count": 5,
   "id": "2d19e534",
   "metadata": {},
   "outputs": [
    {
     "name": "stderr",
     "output_type": "stream",
     "text": [
      "[Stage 12:>                                                         (0 + 1) / 1]\r"
     ]
    },
    {
     "name": "stdout",
     "output_type": "stream",
     "text": [
      "+--------------------+--------------------+----------+----+\n",
      "|          antecedent|          consequent|confidence|lift|\n",
      "+--------------------+--------------------+----------+----+\n",
      "|[assignment_upload4]|[assignment_update4]|       1.0| 1.0|\n",
      "|  [assignment_view3]|[assignment_update4]|       1.0| 1.0|\n",
      "+--------------------+--------------------+----------+----+\n",
      "\n"
     ]
    },
    {
     "name": "stderr",
     "output_type": "stream",
     "text": [
      "                                                                                \r"
     ]
    }
   ],
   "source": [
    "# Display generated association rules.\n",
    "model.associationRules.show()"
   ]
  }
 ],
 "metadata": {
  "kernelspec": {
   "display_name": "Python 3 (ipykernel)",
   "language": "python",
   "name": "python3"
  },
  "language_info": {
   "codemirror_mode": {
    "name": "ipython",
    "version": 3
   },
   "file_extension": ".py",
   "mimetype": "text/x-python",
   "name": "python",
   "nbconvert_exporter": "python",
   "pygments_lexer": "ipython3",
   "version": "3.9.2"
  }
 },
 "nbformat": 4,
 "nbformat_minor": 5
}
